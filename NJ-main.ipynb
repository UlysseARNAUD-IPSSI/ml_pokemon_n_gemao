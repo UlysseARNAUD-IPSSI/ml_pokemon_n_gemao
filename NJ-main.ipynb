{
 "cells": [
  {
   "cell_type": "markdown",
   "metadata": {},
   "source": [
    "# Jeu de données ENGIE"
   ]
  },
  {
   "cell_type": "code",
   "execution_count": null,
   "metadata": {},
   "outputs": [],
   "source": [
    "# !pip install seaborn"
   ]
  },
  {
   "cell_type": "code",
   "execution_count": 1,
   "metadata": {},
   "outputs": [],
   "source": [
    "import numpy as np\n",
    "import pandas as pd\n",
    "import matplotlib.pyplot as plt\n",
    "import seaborn as sns"
   ]
  },
  {
   "cell_type": "markdown",
   "metadata": {},
   "source": [
    "## Importation des jeux de données"
   ]
  },
  {
   "cell_type": "code",
   "execution_count": 3,
   "metadata": {},
   "outputs": [],
   "source": [
    "df = pd.read_excel('./njmaint1000.xlsx')"
   ]
  },
  {
   "cell_type": "code",
   "execution_count": 4,
   "metadata": {
    "scrolled": false
   },
   "outputs": [
    {
     "data": {
      "text/html": [
       "<div>\n",
       "<style scoped>\n",
       "    .dataframe tbody tr th:only-of-type {\n",
       "        vertical-align: middle;\n",
       "    }\n",
       "\n",
       "    .dataframe tbody tr th {\n",
       "        vertical-align: top;\n",
       "    }\n",
       "\n",
       "    .dataframe thead th {\n",
       "        text-align: right;\n",
       "    }\n",
       "</style>\n",
       "<table border=\"1\" class=\"dataframe\">\n",
       "  <thead>\n",
       "    <tr style=\"text-align: right;\">\n",
       "      <th></th>\n",
       "      <th>MAIN_PK</th>\n",
       "      <th>MAIN_DATE</th>\n",
       "      <th>ITEM_PK</th>\n",
       "      <th>CLAS_PK</th>\n",
       "      <th>TIME</th>\n",
       "      <th>ATT_DATE</th>\n",
       "      <th>STAFF</th>\n",
       "      <th>REPORT</th>\n",
       "      <th>WORK_DES</th>\n",
       "      <th>CARAC</th>\n",
       "      <th>...</th>\n",
       "      <th>DESC6</th>\n",
       "      <th>DESC7</th>\n",
       "      <th>DESC8</th>\n",
       "      <th>CREATED_DATE</th>\n",
       "      <th>RESPONSIBLE_NUM</th>\n",
       "      <th>NEED_PERMIT2</th>\n",
       "      <th>NO_PERMIT2</th>\n",
       "      <th>RE_COMMISSIONING_DATE</th>\n",
       "      <th>FLAG_PLANNED</th>\n",
       "      <th>USER_NAME</th>\n",
       "    </tr>\n",
       "  </thead>\n",
       "  <tbody>\n",
       "    <tr>\n",
       "      <th>0</th>\n",
       "      <td>625309</td>\n",
       "      <td>2020-01-03 16:00:00</td>\n",
       "      <td>486980</td>\n",
       "      <td>NaN</td>\n",
       "      <td>7.0</td>\n",
       "      <td>2020-01-03 08:37:00</td>\n",
       "      <td>NaN</td>\n",
       "      <td>Arnaud et Thierry 2h + 2h\\r\\n\\r\\nRemplacement ...</td>\n",
       "      <td>DEUX NEONS HS AU SS-2</td>\n",
       "      <td>B</td>\n",
       "      <td>...</td>\n",
       "      <td>NaN</td>\n",
       "      <td>NaN</td>\n",
       "      <td>NaN</td>\n",
       "      <td>2020-01-03 08:38:14</td>\n",
       "      <td>NaN</td>\n",
       "      <td>N</td>\n",
       "      <td>NaN</td>\n",
       "      <td>NaT</td>\n",
       "      <td>NaN</td>\n",
       "      <td>PCAM_MCR</td>\n",
       "    </tr>\n",
       "    <tr>\n",
       "      <th>1</th>\n",
       "      <td>625317</td>\n",
       "      <td>NaT</td>\n",
       "      <td>479796</td>\n",
       "      <td>NaN</td>\n",
       "      <td>NaN</td>\n",
       "      <td>2020-01-03 09:16:00</td>\n",
       "      <td>NaN</td>\n",
       "      <td>NaN</td>\n",
       "      <td>D934 DEFAUT D ECLAIRAGE /DU 1ER ROND POINT JUS...</td>\n",
       "      <td>B</td>\n",
       "      <td>...</td>\n",
       "      <td>NaN</td>\n",
       "      <td>NaN</td>\n",
       "      <td>NaN</td>\n",
       "      <td>2020-01-03 09:16:00</td>\n",
       "      <td>NaN</td>\n",
       "      <td>NaN</td>\n",
       "      <td>NaN</td>\n",
       "      <td>NaT</td>\n",
       "      <td>NaN</td>\n",
       "      <td>NaN</td>\n",
       "    </tr>\n",
       "    <tr>\n",
       "      <th>2</th>\n",
       "      <td>625354</td>\n",
       "      <td>2020-02-03 12:00:00</td>\n",
       "      <td>556987</td>\n",
       "      <td>NaN</td>\n",
       "      <td>28.5</td>\n",
       "      <td>2020-01-03 11:40:00</td>\n",
       "      <td>NaN</td>\n",
       "      <td>PTR1 Ond2 : Test des flottements\\r\\nDéfaut d'i...</td>\n",
       "      <td>DEFAUT D ISOLEMENT SUR ONDULEURS 1.1/ 2.1/.5.2</td>\n",
       "      <td>B</td>\n",
       "      <td>...</td>\n",
       "      <td>NaN</td>\n",
       "      <td>NaN</td>\n",
       "      <td>NaN</td>\n",
       "      <td>2020-01-03 10:11:39</td>\n",
       "      <td>NaN</td>\n",
       "      <td>N</td>\n",
       "      <td>NaN</td>\n",
       "      <td>2020-02-03 12:00:00</td>\n",
       "      <td>NaN</td>\n",
       "      <td>ADM_PESS1</td>\n",
       "    </tr>\n",
       "    <tr>\n",
       "      <th>3</th>\n",
       "      <td>508825</td>\n",
       "      <td>2019-02-01 08:00:00</td>\n",
       "      <td>466816</td>\n",
       "      <td>NaN</td>\n",
       "      <td>NaN</td>\n",
       "      <td>2019-01-06 00:11:59</td>\n",
       "      <td>NaN</td>\n",
       "      <td>NaN</td>\n",
       "      <td>DEFAUT SYSTÈME SUR SSI</td>\n",
       "      <td>B</td>\n",
       "      <td>...</td>\n",
       "      <td>NaN</td>\n",
       "      <td>NaN</td>\n",
       "      <td>NaN</td>\n",
       "      <td>2019-01-06 00:11:59</td>\n",
       "      <td>NaN</td>\n",
       "      <td>NaN</td>\n",
       "      <td>NaN</td>\n",
       "      <td>NaT</td>\n",
       "      <td>NaN</td>\n",
       "      <td>NaN</td>\n",
       "    </tr>\n",
       "    <tr>\n",
       "      <th>4</th>\n",
       "      <td>508834</td>\n",
       "      <td>2019-01-06 06:48:08</td>\n",
       "      <td>481840</td>\n",
       "      <td>NaN</td>\n",
       "      <td>NaN</td>\n",
       "      <td>2019-01-06 06:48:08</td>\n",
       "      <td>NaN</td>\n",
       "      <td>NaN</td>\n",
       "      <td>ALARME CP 01009 SYNTHÈSE DEFAUT BAT 15 LOCAL 1901</td>\n",
       "      <td>B</td>\n",
       "      <td>...</td>\n",
       "      <td>NaN</td>\n",
       "      <td>NaN</td>\n",
       "      <td>NaN</td>\n",
       "      <td>2019-01-06 06:48:08</td>\n",
       "      <td>NaN</td>\n",
       "      <td>N</td>\n",
       "      <td>NaN</td>\n",
       "      <td>2019-01-06 06:48:08</td>\n",
       "      <td>NaN</td>\n",
       "      <td>MPLR_ALO</td>\n",
       "    </tr>\n",
       "  </tbody>\n",
       "</table>\n",
       "<p>5 rows × 69 columns</p>\n",
       "</div>"
      ],
      "text/plain": [
       "   MAIN_PK           MAIN_DATE  ITEM_PK  CLAS_PK  TIME            ATT_DATE  \\\n",
       "0   625309 2020-01-03 16:00:00   486980      NaN   7.0 2020-01-03 08:37:00   \n",
       "1   625317                 NaT   479796      NaN   NaN 2020-01-03 09:16:00   \n",
       "2   625354 2020-02-03 12:00:00   556987      NaN  28.5 2020-01-03 11:40:00   \n",
       "3   508825 2019-02-01 08:00:00   466816      NaN   NaN 2019-01-06 00:11:59   \n",
       "4   508834 2019-01-06 06:48:08   481840      NaN   NaN 2019-01-06 06:48:08   \n",
       "\n",
       "   STAFF                                             REPORT  \\\n",
       "0    NaN  Arnaud et Thierry 2h + 2h\\r\\n\\r\\nRemplacement ...   \n",
       "1    NaN                                                NaN   \n",
       "2    NaN  PTR1 Ond2 : Test des flottements\\r\\nDéfaut d'i...   \n",
       "3    NaN                                                NaN   \n",
       "4    NaN                                                NaN   \n",
       "\n",
       "                                            WORK_DES CARAC  ... DESC6 DESC7  \\\n",
       "0                              DEUX NEONS HS AU SS-2     B  ...   NaN   NaN   \n",
       "1  D934 DEFAUT D ECLAIRAGE /DU 1ER ROND POINT JUS...     B  ...   NaN   NaN   \n",
       "2     DEFAUT D ISOLEMENT SUR ONDULEURS 1.1/ 2.1/.5.2     B  ...   NaN   NaN   \n",
       "3                             DEFAUT SYSTÈME SUR SSI     B  ...   NaN   NaN   \n",
       "4  ALARME CP 01009 SYNTHÈSE DEFAUT BAT 15 LOCAL 1901     B  ...   NaN   NaN   \n",
       "\n",
       "  DESC8        CREATED_DATE  RESPONSIBLE_NUM NEED_PERMIT2 NO_PERMIT2  \\\n",
       "0   NaN 2020-01-03 08:38:14              NaN            N        NaN   \n",
       "1   NaN 2020-01-03 09:16:00              NaN          NaN        NaN   \n",
       "2   NaN 2020-01-03 10:11:39              NaN            N        NaN   \n",
       "3   NaN 2019-01-06 00:11:59              NaN          NaN        NaN   \n",
       "4   NaN 2019-01-06 06:48:08              NaN            N        NaN   \n",
       "\n",
       "   RE_COMMISSIONING_DATE  FLAG_PLANNED  USER_NAME  \n",
       "0                    NaT           NaN   PCAM_MCR  \n",
       "1                    NaT           NaN        NaN  \n",
       "2    2020-02-03 12:00:00           NaN  ADM_PESS1  \n",
       "3                    NaT           NaN        NaN  \n",
       "4    2019-01-06 06:48:08           NaN   MPLR_ALO  \n",
       "\n",
       "[5 rows x 69 columns]"
      ]
     },
     "execution_count": 4,
     "metadata": {},
     "output_type": "execute_result"
    }
   ],
   "source": [
    "df.head(5)"
   ]
  },
  {
   "cell_type": "markdown",
   "metadata": {},
   "source": [
    "## Verification des lignes problématiques"
   ]
  },
  {
   "cell_type": "code",
   "execution_count": 10,
   "metadata": {},
   "outputs": [
    {
     "data": {
      "text/plain": [
       "EQU_STOP_TIME        1000\n",
       "CLIENT_EXPENSE_PK    1000\n",
       "BUD_CODE             1000\n",
       "ORDER_CODE           1000\n",
       "BUD_CODE_EQU         1000\n",
       "                     ... \n",
       "CLIENT_PK               0\n",
       "HOT_WORK                0\n",
       "CREATED_DATE            0\n",
       "ITEM_PK                 0\n",
       "MAIN_PK                 0\n",
       "Length: 69, dtype: int64"
      ]
     },
     "execution_count": 10,
     "metadata": {},
     "output_type": "execute_result"
    }
   ],
   "source": [
    "df.isna().sum().sort_values(ascending=False)"
   ]
  },
  {
   "cell_type": "code",
   "execution_count": 11,
   "metadata": {
    "scrolled": true
   },
   "outputs": [
    {
     "data": {
      "text/html": [
       "<div>\n",
       "<style scoped>\n",
       "    .dataframe tbody tr th:only-of-type {\n",
       "        vertical-align: middle;\n",
       "    }\n",
       "\n",
       "    .dataframe tbody tr th {\n",
       "        vertical-align: top;\n",
       "    }\n",
       "\n",
       "    .dataframe thead th {\n",
       "        text-align: right;\n",
       "    }\n",
       "</style>\n",
       "<table border=\"1\" class=\"dataframe\">\n",
       "  <thead>\n",
       "    <tr style=\"text-align: right;\">\n",
       "      <th></th>\n",
       "      <th>MAIN_PK</th>\n",
       "      <th>CATEGORY_PK</th>\n",
       "      <th>STATUS_PK</th>\n",
       "    </tr>\n",
       "  </thead>\n",
       "  <tbody>\n",
       "    <tr>\n",
       "      <th>0</th>\n",
       "      <td>625309</td>\n",
       "      <td>K</td>\n",
       "      <td>8</td>\n",
       "    </tr>\n",
       "    <tr>\n",
       "      <th>1</th>\n",
       "      <td>625317</td>\n",
       "      <td>K</td>\n",
       "      <td>4</td>\n",
       "    </tr>\n",
       "    <tr>\n",
       "      <th>2</th>\n",
       "      <td>625354</td>\n",
       "      <td>K</td>\n",
       "      <td>H</td>\n",
       "    </tr>\n",
       "    <tr>\n",
       "      <th>3</th>\n",
       "      <td>508825</td>\n",
       "      <td>K</td>\n",
       "      <td>4</td>\n",
       "    </tr>\n",
       "    <tr>\n",
       "      <th>4</th>\n",
       "      <td>508834</td>\n",
       "      <td>K</td>\n",
       "      <td>8</td>\n",
       "    </tr>\n",
       "    <tr>\n",
       "      <th>...</th>\n",
       "      <td>...</td>\n",
       "      <td>...</td>\n",
       "      <td>...</td>\n",
       "    </tr>\n",
       "    <tr>\n",
       "      <th>995</th>\n",
       "      <td>482886</td>\n",
       "      <td>L</td>\n",
       "      <td>9</td>\n",
       "    </tr>\n",
       "    <tr>\n",
       "      <th>996</th>\n",
       "      <td>492637</td>\n",
       "      <td>L</td>\n",
       "      <td>7</td>\n",
       "    </tr>\n",
       "    <tr>\n",
       "      <th>997</th>\n",
       "      <td>496111</td>\n",
       "      <td>L</td>\n",
       "      <td>7</td>\n",
       "    </tr>\n",
       "    <tr>\n",
       "      <th>998</th>\n",
       "      <td>496113</td>\n",
       "      <td>L</td>\n",
       "      <td>7</td>\n",
       "    </tr>\n",
       "    <tr>\n",
       "      <th>999</th>\n",
       "      <td>504798</td>\n",
       "      <td>L</td>\n",
       "      <td>7</td>\n",
       "    </tr>\n",
       "  </tbody>\n",
       "</table>\n",
       "<p>1000 rows × 3 columns</p>\n",
       "</div>"
      ],
      "text/plain": [
       "     MAIN_PK CATEGORY_PK STATUS_PK\n",
       "0     625309           K         8\n",
       "1     625317           K         4\n",
       "2     625354           K         H\n",
       "3     508825           K         4\n",
       "4     508834           K         8\n",
       "..       ...         ...       ...\n",
       "995   482886           L         9\n",
       "996   492637           L         7\n",
       "997   496111           L         7\n",
       "998   496113           L         7\n",
       "999   504798           L         7\n",
       "\n",
       "[1000 rows x 3 columns]"
      ]
     },
     "execution_count": 11,
     "metadata": {},
     "output_type": "execute_result"
    }
   ],
   "source": [
    "columns = ['MAIN_PK','CATEGORY_PK','STATUS_PK']\n",
    "new_df = df.loc[:,columns]\n",
    "new_df"
   ]
  },
  {
   "cell_type": "markdown",
   "metadata": {},
   "source": [
    "## Convertion des valeurs litterales en numériques"
   ]
  },
  {
   "cell_type": "code",
   "execution_count": 13,
   "metadata": {
    "scrolled": true
   },
   "outputs": [
    {
     "data": {
      "text/html": [
       "<div>\n",
       "<style scoped>\n",
       "    .dataframe tbody tr th:only-of-type {\n",
       "        vertical-align: middle;\n",
       "    }\n",
       "\n",
       "    .dataframe tbody tr th {\n",
       "        vertical-align: top;\n",
       "    }\n",
       "\n",
       "    .dataframe thead th {\n",
       "        text-align: right;\n",
       "    }\n",
       "</style>\n",
       "<table border=\"1\" class=\"dataframe\">\n",
       "  <thead>\n",
       "    <tr style=\"text-align: right;\">\n",
       "      <th></th>\n",
       "      <th>MAIN_PK</th>\n",
       "      <th>CATEGORY_PK</th>\n",
       "      <th>STATUS_PK</th>\n",
       "      <th>CATEGORY_PK_</th>\n",
       "      <th>STATUS_PK_</th>\n",
       "    </tr>\n",
       "  </thead>\n",
       "  <tbody>\n",
       "    <tr>\n",
       "      <th>0</th>\n",
       "      <td>625309</td>\n",
       "      <td>K</td>\n",
       "      <td>8</td>\n",
       "      <td>3</td>\n",
       "      <td>5</td>\n",
       "    </tr>\n",
       "    <tr>\n",
       "      <th>1</th>\n",
       "      <td>625317</td>\n",
       "      <td>K</td>\n",
       "      <td>4</td>\n",
       "      <td>3</td>\n",
       "      <td>2</td>\n",
       "    </tr>\n",
       "    <tr>\n",
       "      <th>2</th>\n",
       "      <td>625354</td>\n",
       "      <td>K</td>\n",
       "      <td>H</td>\n",
       "      <td>3</td>\n",
       "      <td>12</td>\n",
       "    </tr>\n",
       "    <tr>\n",
       "      <th>3</th>\n",
       "      <td>508825</td>\n",
       "      <td>K</td>\n",
       "      <td>4</td>\n",
       "      <td>3</td>\n",
       "      <td>2</td>\n",
       "    </tr>\n",
       "    <tr>\n",
       "      <th>4</th>\n",
       "      <td>508834</td>\n",
       "      <td>K</td>\n",
       "      <td>8</td>\n",
       "      <td>3</td>\n",
       "      <td>5</td>\n",
       "    </tr>\n",
       "    <tr>\n",
       "      <th>...</th>\n",
       "      <td>...</td>\n",
       "      <td>...</td>\n",
       "      <td>...</td>\n",
       "      <td>...</td>\n",
       "      <td>...</td>\n",
       "    </tr>\n",
       "    <tr>\n",
       "      <th>995</th>\n",
       "      <td>482886</td>\n",
       "      <td>L</td>\n",
       "      <td>9</td>\n",
       "      <td>4</td>\n",
       "      <td>6</td>\n",
       "    </tr>\n",
       "    <tr>\n",
       "      <th>996</th>\n",
       "      <td>492637</td>\n",
       "      <td>L</td>\n",
       "      <td>7</td>\n",
       "      <td>4</td>\n",
       "      <td>4</td>\n",
       "    </tr>\n",
       "    <tr>\n",
       "      <th>997</th>\n",
       "      <td>496111</td>\n",
       "      <td>L</td>\n",
       "      <td>7</td>\n",
       "      <td>4</td>\n",
       "      <td>4</td>\n",
       "    </tr>\n",
       "    <tr>\n",
       "      <th>998</th>\n",
       "      <td>496113</td>\n",
       "      <td>L</td>\n",
       "      <td>7</td>\n",
       "      <td>4</td>\n",
       "      <td>4</td>\n",
       "    </tr>\n",
       "    <tr>\n",
       "      <th>999</th>\n",
       "      <td>504798</td>\n",
       "      <td>L</td>\n",
       "      <td>7</td>\n",
       "      <td>4</td>\n",
       "      <td>4</td>\n",
       "    </tr>\n",
       "  </tbody>\n",
       "</table>\n",
       "<p>1000 rows × 5 columns</p>\n",
       "</div>"
      ],
      "text/plain": [
       "     MAIN_PK CATEGORY_PK STATUS_PK  CATEGORY_PK_  STATUS_PK_\n",
       "0     625309           K         8             3           5\n",
       "1     625317           K         4             3           2\n",
       "2     625354           K         H             3          12\n",
       "3     508825           K         4             3           2\n",
       "4     508834           K         8             3           5\n",
       "..       ...         ...       ...           ...         ...\n",
       "995   482886           L         9             4           6\n",
       "996   492637           L         7             4           4\n",
       "997   496111           L         7             4           4\n",
       "998   496113           L         7             4           4\n",
       "999   504798           L         7             4           4\n",
       "\n",
       "[1000 rows x 5 columns]"
      ]
     },
     "execution_count": 13,
     "metadata": {},
     "output_type": "execute_result"
    }
   ],
   "source": [
    "from sklearn.preprocessing import LabelEncoder\n",
    "\n",
    "for column in list(new_df.describe(exclude=[np.number]).columns):\n",
    "    le = LabelEncoder()\n",
    "    le.fit(new_df[column])\n",
    "    new_df[column + '_']=le.transform(new_df[column])\n",
    "new_df"
   ]
  },
  {
   "cell_type": "markdown",
   "metadata": {},
   "source": [
    "## Selection des \"colonnes utiles\""
   ]
  },
  {
   "cell_type": "code",
   "execution_count": 14,
   "metadata": {
    "scrolled": false
   },
   "outputs": [
    {
     "data": {
      "text/html": [
       "<div>\n",
       "<style scoped>\n",
       "    .dataframe tbody tr th:only-of-type {\n",
       "        vertical-align: middle;\n",
       "    }\n",
       "\n",
       "    .dataframe tbody tr th {\n",
       "        vertical-align: top;\n",
       "    }\n",
       "\n",
       "    .dataframe thead th {\n",
       "        text-align: right;\n",
       "    }\n",
       "</style>\n",
       "<table border=\"1\" class=\"dataframe\">\n",
       "  <thead>\n",
       "    <tr style=\"text-align: right;\">\n",
       "      <th></th>\n",
       "      <th>MAIN_PK</th>\n",
       "      <th>CATEGORY_PK_</th>\n",
       "      <th>STATUS_PK_</th>\n",
       "    </tr>\n",
       "  </thead>\n",
       "  <tbody>\n",
       "    <tr>\n",
       "      <th>0</th>\n",
       "      <td>625309</td>\n",
       "      <td>3</td>\n",
       "      <td>5</td>\n",
       "    </tr>\n",
       "    <tr>\n",
       "      <th>1</th>\n",
       "      <td>625317</td>\n",
       "      <td>3</td>\n",
       "      <td>2</td>\n",
       "    </tr>\n",
       "    <tr>\n",
       "      <th>2</th>\n",
       "      <td>625354</td>\n",
       "      <td>3</td>\n",
       "      <td>12</td>\n",
       "    </tr>\n",
       "    <tr>\n",
       "      <th>3</th>\n",
       "      <td>508825</td>\n",
       "      <td>3</td>\n",
       "      <td>2</td>\n",
       "    </tr>\n",
       "    <tr>\n",
       "      <th>4</th>\n",
       "      <td>508834</td>\n",
       "      <td>3</td>\n",
       "      <td>5</td>\n",
       "    </tr>\n",
       "    <tr>\n",
       "      <th>...</th>\n",
       "      <td>...</td>\n",
       "      <td>...</td>\n",
       "      <td>...</td>\n",
       "    </tr>\n",
       "    <tr>\n",
       "      <th>995</th>\n",
       "      <td>482886</td>\n",
       "      <td>4</td>\n",
       "      <td>6</td>\n",
       "    </tr>\n",
       "    <tr>\n",
       "      <th>996</th>\n",
       "      <td>492637</td>\n",
       "      <td>4</td>\n",
       "      <td>4</td>\n",
       "    </tr>\n",
       "    <tr>\n",
       "      <th>997</th>\n",
       "      <td>496111</td>\n",
       "      <td>4</td>\n",
       "      <td>4</td>\n",
       "    </tr>\n",
       "    <tr>\n",
       "      <th>998</th>\n",
       "      <td>496113</td>\n",
       "      <td>4</td>\n",
       "      <td>4</td>\n",
       "    </tr>\n",
       "    <tr>\n",
       "      <th>999</th>\n",
       "      <td>504798</td>\n",
       "      <td>4</td>\n",
       "      <td>4</td>\n",
       "    </tr>\n",
       "  </tbody>\n",
       "</table>\n",
       "<p>1000 rows × 3 columns</p>\n",
       "</div>"
      ],
      "text/plain": [
       "     MAIN_PK  CATEGORY_PK_  STATUS_PK_\n",
       "0     625309             3           5\n",
       "1     625317             3           2\n",
       "2     625354             3          12\n",
       "3     508825             3           2\n",
       "4     508834             3           5\n",
       "..       ...           ...         ...\n",
       "995   482886             4           6\n",
       "996   492637             4           4\n",
       "997   496111             4           4\n",
       "998   496113             4           4\n",
       "999   504798             4           4\n",
       "\n",
       "[1000 rows x 3 columns]"
      ]
     },
     "execution_count": 14,
     "metadata": {},
     "output_type": "execute_result"
    }
   ],
   "source": [
    "new_df = new_df.drop(['CATEGORY_PK','STATUS_PK'], 1)\n",
    "new_df"
   ]
  },
  {
   "cell_type": "markdown",
   "metadata": {},
   "source": [
    "## Mise à l'échelle des valeurs"
   ]
  },
  {
   "cell_type": "code",
   "execution_count": 17,
   "metadata": {},
   "outputs": [],
   "source": [
    "from sklearn.preprocessing import scale\n",
    "from sklearn.preprocessing import MinMaxScaler"
   ]
  },
  {
   "cell_type": "code",
   "execution_count": 18,
   "metadata": {},
   "outputs": [
    {
     "data": {
      "text/plain": [
       "array([[0.67901048, 0.23076923, 0.38461538],\n",
       "       [0.67902389, 0.23076923, 0.15384615],\n",
       "       [0.67908589, 0.23076923, 0.92307692],\n",
       "       ...,\n",
       "       [0.46250268, 0.30769231, 0.30769231],\n",
       "       [0.46250603, 0.30769231, 0.30769231],\n",
       "       [0.47706021, 0.30769231, 0.30769231]])"
      ]
     },
     "execution_count": 18,
     "metadata": {},
     "output_type": "execute_result"
    }
   ],
   "source": [
    "min_max = MinMaxScaler()\n",
    "new_df_minmax = min_max.fit_transform(new_df)\n",
    "new_df_minmax"
   ]
  },
  {
   "cell_type": "markdown",
   "metadata": {},
   "source": [
    "Avant la mise à l'échelle on obtient ça "
   ]
  },
  {
   "cell_type": "code",
   "execution_count": 20,
   "metadata": {},
   "outputs": [
    {
     "data": {
      "text/plain": [
       "<AxesSubplot:>"
      ]
     },
     "execution_count": 20,
     "metadata": {},
     "output_type": "execute_result"
    },
    {
     "data": {
      "image/png": "[encoded data removed]",
      "text/plain": [
       "<Figure size 432x288 with 1 Axes>"
      ]
     },
     "metadata": {
      "needs_background": "light"
     },
     "output_type": "display_data"
    }
   ],
   "source": [
    "new_df.boxplot(rot=45)"
   ]
  },
  {
   "cell_type": "markdown",
   "metadata": {},
   "source": [
    "Après la mise à l'échelle on obtient ça :"
   ]
  },
  {
   "cell_type": "code",
   "execution_count": 21,
   "metadata": {},
   "outputs": [
    {
     "data": {
      "text/plain": [
       "<AxesSubplot:>"
      ]
     },
     "execution_count": 21,
     "metadata": {},
     "output_type": "execute_result"
    },
    {
     "data": {
      "image/png": "[encoded data removed]",
      "text/plain": [
       "<Figure size 432x288 with 1 Axes>"
      ]
     },
     "metadata": {
      "needs_background": "light"
     },
     "output_type": "display_data"
    }
   ],
   "source": [
    " pd.DataFrame(new_df_minmax).boxplot(rot=45)"
   ]
  },
  {
   "cell_type": "code",
   "execution_count": 23,
   "metadata": {
    "scrolled": true
   },
   "outputs": [
    {
     "data": {
      "text/plain": [
       "0       1\n",
       "1       8\n",
       "2      64\n",
       "3       1\n",
       "4     381\n",
       "5      65\n",
       "6     361\n",
       "7       1\n",
       "8      33\n",
       "9      20\n",
       "10      1\n",
       "11     20\n",
       "12     37\n",
       "13      7\n",
       "Name: STATUS_PK_, dtype: int64"
      ]
     },
     "execution_count": 23,
     "metadata": {},
     "output_type": "execute_result"
    }
   ],
   "source": [
    "new_df.STATUS_PK_.value_counts().sort_index(ascending=True)"
   ]
  },
  {
   "cell_type": "markdown",
   "metadata": {},
   "source": [
    "## Clusterisation"
   ]
  },
  {
   "cell_type": "code",
   "execution_count": null,
   "metadata": {},
   "outputs": [],
   "source": [
    "##df['CATEGORY_PK'].unique()"
   ]
  },
  {
   "cell_type": "code",
   "execution_count": 26,
   "metadata": {},
   "outputs": [
    {
     "data": {
      "text/plain": [
       "KMeans(n_clusters=3, random_state=42)"
      ]
     },
     "execution_count": 26,
     "metadata": {},
     "output_type": "execute_result"
    }
   ],
   "source": [
    "from sklearn import cluster\n",
    "kmeans_minmax = cluster.KMeans(n_clusters=3, random_state=42)\n",
    "# kmeans_minmax\n",
    "kmeans_minmax.fit(new_df_minmax)"
   ]
  },
  {
   "cell_type": "code",
   "execution_count": 27,
   "metadata": {
    "scrolled": true
   },
   "outputs": [
    {
     "data": {
      "text/plain": [
       "<matplotlib.collections.PathCollection at 0x1980f1a22b0>"
      ]
     },
     "execution_count": 27,
     "metadata": {},
     "output_type": "execute_result"
    },
    {
     "data": {
      "image/png": "[encoded data removed]",
      "text/plain": [
       "<Figure size 432x288 with 1 Axes>"
      ]
     },
     "metadata": {
      "needs_background": "light"
     },
     "output_type": "display_data"
    }
   ],
   "source": [
    "y_kmeans = kmeans_minmax.predict(new_df_minmax)\n",
    "# y_kmeans\n",
    "centers = kmeans_minmax.cluster_centers_\n",
    "# centers\n",
    "# plt.figure()\n",
    "plt.scatter(new_df_minmax[ : , 0], new_df_minmax[ : , 1], c=y_kmeans, s=50, cmap='viridis')\n",
    "# colmap = {1: 'r', 2: 'g', 3: 'b', 4: 'y'}\n",
    "plt.scatter(centers[:, 0], centers[:, 1], c='black', s=200, alpha=0.5) "
   ]
  },
  {
   "cell_type": "markdown",
   "metadata": {},
   "source": [
    "## Recherche du nombre optimal de clusters"
   ]
  },
  {
   "cell_type": "code",
   "execution_count": 28,
   "metadata": {
    "scrolled": false
   },
   "outputs": [
    {
     "name": "stdout",
     "output_type": "stream",
     "text": [
      "*** For n_clusters=2, The Silhouette Coefficient is 0.6126581632469449 ***\n",
      "\n",
      "*** For n_clusters=3, The Silhouette Coefficient is 0.4559909270772523 ***\n",
      "\n",
      "*** For n_clusters=4, The Silhouette Coefficient is 0.48777508494732924 ***\n",
      "\n",
      "*** For n_clusters=5, The Silhouette Coefficient is 0.5165582601999918 ***\n",
      "\n",
      "*** For n_clusters=6, The Silhouette Coefficient is 0.526411359289094 ***\n",
      "\n",
      "*** For n_clusters=7, The Silhouette Coefficient is 0.56094210937868 ***\n",
      "\n",
      "*** For n_clusters=8, The Silhouette Coefficient is 0.5777860845518449 ***\n",
      "\n",
      "*** For n_clusters=9, The Silhouette Coefficient is 0.5869015334356443 ***\n",
      "\n",
      "*** For n_clusters=10, The Silhouette Coefficient is 0.6128133940252324 ***\n",
      "\n",
      "[0.6126581632469449, 0.4559909270772523, 0.48777508494732924, 0.5165582601999918, 0.526411359289094, 0.56094210937868, 0.5777860845518449, 0.5869015334356443, 0.6128133940252324]\n"
     ]
    },
    {
     "data": {
      "text/plain": [
       "[<matplotlib.lines.Line2D at 0x1980f200100>]"
      ]
     },
     "execution_count": 28,
     "metadata": {},
     "output_type": "execute_result"
    },
    {
     "data": {
      "image/png": "[encoded data removed]",
      "text/plain": [
       "<Figure size 432x288 with 1 Axes>"
      ]
     },
     "metadata": {
      "needs_background": "light"
     },
     "output_type": "display_data"
    }
   ],
   "source": [
    "from sklearn import metrics\n",
    "\n",
    "# Utilisation de la métrique \"silhouette\"\n",
    "# Faire varier le nombre de clusters de 2 à 10\n",
    "scores = []\n",
    "for k in range(2, 11):\n",
    "    km = cluster.KMeans(n_clusters = k, random_state = 42)\n",
    "    km.fit(new_df_minmax)\n",
    "    score = metrics.silhouette_score(new_df_minmax, km.labels_)\n",
    "    scores.append(score)\n",
    "    print(f'*** For n_clusters={k}, The Silhouette Coefficient is {score} ***\\n')\n",
    "\n",
    "print(scores)\n",
    "# S :\n",
    "# [0.46125628440580635, 0.40294238189905895, 0.41627447069733386, 0.3900272705972848, 0.3228464903008829, 0.3473776041463943, 0.3412276622157032, 0.25028718369271796, 0.22147311807421863]\n",
    "\n",
    "# Graphique\n",
    "plt.figure()\n",
    "plt.title(\"Silhouette\")\n",
    "plt.xlabel(\"# of clusters\")\n",
    "plt.plot(range(2, 11, 1), scores)"
   ]
  },
  {
   "cell_type": "markdown",
   "metadata": {},
   "source": [
    "Le nombre optimal de clusters est de 3."
   ]
  },
  {
   "cell_type": "code",
   "execution_count": 33,
   "metadata": {
    "scrolled": false
   },
   "outputs": [],
   "source": [
    "#kmeans_minmax.labels_"
   ]
  },
  {
   "cell_type": "markdown",
   "metadata": {},
   "source": [
    "## Classifiication du texte (NLP)"
   ]
  },
  {
   "cell_type": "code",
   "execution_count": 34,
   "metadata": {
    "scrolled": true
   },
   "outputs": [
    {
     "data": {
      "text/html": [
       "<div>\n",
       "<style scoped>\n",
       "    .dataframe tbody tr th:only-of-type {\n",
       "        vertical-align: middle;\n",
       "    }\n",
       "\n",
       "    .dataframe tbody tr th {\n",
       "        vertical-align: top;\n",
       "    }\n",
       "\n",
       "    .dataframe thead th {\n",
       "        text-align: right;\n",
       "    }\n",
       "</style>\n",
       "<table border=\"1\" class=\"dataframe\">\n",
       "  <thead>\n",
       "    <tr style=\"text-align: right;\">\n",
       "      <th></th>\n",
       "      <th>MAIN_DATE</th>\n",
       "      <th>REPORT</th>\n",
       "      <th>WORK_DES</th>\n",
       "    </tr>\n",
       "  </thead>\n",
       "  <tbody>\n",
       "    <tr>\n",
       "      <th>0</th>\n",
       "      <td>2020-01-03 16:00:00</td>\n",
       "      <td>Arnaud et Thierry 2h + 2h\\r\\n\\r\\nRemplacement ...</td>\n",
       "      <td>DEUX NEONS HS AU SS-2</td>\n",
       "    </tr>\n",
       "    <tr>\n",
       "      <th>1</th>\n",
       "      <td>NaT</td>\n",
       "      <td>NaN</td>\n",
       "      <td>D934 DEFAUT D ECLAIRAGE /DU 1ER ROND POINT JUS...</td>\n",
       "    </tr>\n",
       "    <tr>\n",
       "      <th>2</th>\n",
       "      <td>2020-02-03 12:00:00</td>\n",
       "      <td>PTR1 Ond2 : Test des flottements\\r\\nDéfaut d'i...</td>\n",
       "      <td>DEFAUT D ISOLEMENT SUR ONDULEURS 1.1/ 2.1/.5.2</td>\n",
       "    </tr>\n",
       "    <tr>\n",
       "      <th>3</th>\n",
       "      <td>2019-02-01 08:00:00</td>\n",
       "      <td>NaN</td>\n",
       "      <td>DEFAUT SYSTÈME SUR SSI</td>\n",
       "    </tr>\n",
       "    <tr>\n",
       "      <th>4</th>\n",
       "      <td>2019-01-06 06:48:08</td>\n",
       "      <td>NaN</td>\n",
       "      <td>ALARME CP 01009 SYNTHÈSE DEFAUT BAT 15 LOCAL 1901</td>\n",
       "    </tr>\n",
       "    <tr>\n",
       "      <th>...</th>\n",
       "      <td>...</td>\n",
       "      <td>...</td>\n",
       "      <td>...</td>\n",
       "    </tr>\n",
       "    <tr>\n",
       "      <th>995</th>\n",
       "      <td>2019-03-06 08:00:00</td>\n",
       "      <td>Maintenance électrique trimestrielle. \\r\\nRas</td>\n",
       "      <td>NANTES-CFO-ARMOIRES DIVISIONNAIRES-TRIMESTRIEL...</td>\n",
       "    </tr>\n",
       "    <tr>\n",
       "      <th>996</th>\n",
       "      <td>2019-09-05 16:15:00</td>\n",
       "      <td>Maintenance preventive des installations élect...</td>\n",
       "      <td>Visite annuelle avec coupure du site DARTY</td>\n",
       "    </tr>\n",
       "    <tr>\n",
       "      <th>997</th>\n",
       "      <td>2019-02-13 12:00:00</td>\n",
       "      <td>Essais réel\\r\\nCoupure de la référence tension...</td>\n",
       "      <td>02-ESSAIS-GE-REEL-FEVRIER</td>\n",
       "    </tr>\n",
       "    <tr>\n",
       "      <th>998</th>\n",
       "      <td>2019-04-10 12:00:00</td>\n",
       "      <td>Essais mensuel sur simulation perte référencé ...</td>\n",
       "      <td>04-ESSAIS-GE-REEL-AVRIL</td>\n",
       "    </tr>\n",
       "    <tr>\n",
       "      <th>999</th>\n",
       "      <td>2019-02-11 17:30:00</td>\n",
       "      <td>Visite de maintenance annuelle voir rapport an...</td>\n",
       "      <td>Contrôle annuel des installations SSI</td>\n",
       "    </tr>\n",
       "  </tbody>\n",
       "</table>\n",
       "<p>1000 rows × 3 columns</p>\n",
       "</div>"
      ],
      "text/plain": [
       "              MAIN_DATE                                             REPORT  \\\n",
       "0   2020-01-03 16:00:00  Arnaud et Thierry 2h + 2h\\r\\n\\r\\nRemplacement ...   \n",
       "1                   NaT                                                NaN   \n",
       "2   2020-02-03 12:00:00  PTR1 Ond2 : Test des flottements\\r\\nDéfaut d'i...   \n",
       "3   2019-02-01 08:00:00                                                NaN   \n",
       "4   2019-01-06 06:48:08                                                NaN   \n",
       "..                  ...                                                ...   \n",
       "995 2019-03-06 08:00:00     Maintenance électrique trimestrielle. \\r\\nRas    \n",
       "996 2019-09-05 16:15:00  Maintenance preventive des installations élect...   \n",
       "997 2019-02-13 12:00:00  Essais réel\\r\\nCoupure de la référence tension...   \n",
       "998 2019-04-10 12:00:00  Essais mensuel sur simulation perte référencé ...   \n",
       "999 2019-02-11 17:30:00  Visite de maintenance annuelle voir rapport an...   \n",
       "\n",
       "                                              WORK_DES  \n",
       "0                                DEUX NEONS HS AU SS-2  \n",
       "1    D934 DEFAUT D ECLAIRAGE /DU 1ER ROND POINT JUS...  \n",
       "2       DEFAUT D ISOLEMENT SUR ONDULEURS 1.1/ 2.1/.5.2  \n",
       "3                               DEFAUT SYSTÈME SUR SSI  \n",
       "4    ALARME CP 01009 SYNTHÈSE DEFAUT BAT 15 LOCAL 1901  \n",
       "..                                                 ...  \n",
       "995  NANTES-CFO-ARMOIRES DIVISIONNAIRES-TRIMESTRIEL...  \n",
       "996         Visite annuelle avec coupure du site DARTY  \n",
       "997                          02-ESSAIS-GE-REEL-FEVRIER  \n",
       "998                            04-ESSAIS-GE-REEL-AVRIL  \n",
       "999              Contrôle annuel des installations SSI  \n",
       "\n",
       "[1000 rows x 3 columns]"
      ]
     },
     "execution_count": 34,
     "metadata": {},
     "output_type": "execute_result"
    }
   ],
   "source": [
    "columns = ['MAIN_DATE','REPORT','WORK_DES']\n",
    "new_df2 = df.loc[:,columns]\n",
    "new_df2"
   ]
  },
  {
   "cell_type": "markdown",
   "metadata": {},
   "source": [
    "## Avec Spacy :"
   ]
  },
  {
   "cell_type": "code",
   "execution_count": 35,
   "metadata": {},
   "outputs": [
    {
     "name": "stdout",
     "output_type": "stream",
     "text": [
      "Requirement already satisfied: spacy in c:\\users\\vq5963\\anaconda3\\lib\\site-packages (3.2.4)\n",
      "Requirement already satisfied: srsly<3.0.0,>=2.4.1 in c:\\users\\vq5963\\anaconda3\\lib\\site-packages (from spacy) (2.4.3)\n",
      "Requirement already satisfied: pathy>=0.3.5 in c:\\users\\vq5963\\anaconda3\\lib\\site-packages (from spacy) (0.6.1)\n",
      "Requirement already satisfied: wasabi<1.1.0,>=0.8.1 in c:\\users\\vq5963\\anaconda3\\lib\\site-packages (from spacy) (0.9.1)\n",
      "Requirement already satisfied: murmurhash<1.1.0,>=0.28.0 in c:\\users\\vq5963\\anaconda3\\lib\\site-packages (from spacy) (1.0.6)\n",
      "Requirement already satisfied: jinja2 in c:\\users\\vq5963\\anaconda3\\lib\\site-packages (from spacy) (2.11.2)\n",
      "Requirement already satisfied: tqdm<5.0.0,>=4.38.0 in c:\\users\\vq5963\\anaconda3\\lib\\site-packages (from spacy) (4.50.2)\n",
      "Requirement already satisfied: spacy-loggers<2.0.0,>=1.0.0 in c:\\users\\vq5963\\anaconda3\\lib\\site-packages (from spacy) (1.0.2)\n",
      "Requirement already satisfied: preshed<3.1.0,>=3.0.2 in c:\\users\\vq5963\\anaconda3\\lib\\site-packages (from spacy) (3.0.6)\n",
      "Requirement already satisfied: blis<0.8.0,>=0.4.0 in c:\\users\\vq5963\\anaconda3\\lib\\site-packages (from spacy) (0.7.7)\n",
      "Requirement already satisfied: requests<3.0.0,>=2.13.0 in c:\\users\\vq5963\\anaconda3\\lib\\site-packages (from spacy) (2.24.0)\n",
      "Requirement already satisfied: thinc<8.1.0,>=8.0.12 in c:\\users\\vq5963\\anaconda3\\lib\\site-packages (from spacy) (8.0.15)\n",
      "Requirement already satisfied: numpy>=1.15.0 in c:\\users\\vq5963\\anaconda3\\lib\\site-packages (from spacy) (1.19.2)\n",
      "Requirement already satisfied: spacy-legacy<3.1.0,>=3.0.8 in c:\\users\\vq5963\\anaconda3\\lib\\site-packages (from spacy) (3.0.9)\n",
      "Requirement already satisfied: catalogue<2.1.0,>=2.0.6 in c:\\users\\vq5963\\anaconda3\\lib\\site-packages (from spacy) (2.0.7)\n",
      "Requirement already satisfied: setuptools in c:\\users\\vq5963\\anaconda3\\lib\\site-packages (from spacy) (50.3.1.post20201107)\n",
      "Requirement already satisfied: pydantic!=1.8,!=1.8.1,<1.9.0,>=1.7.4 in c:\\users\\vq5963\\anaconda3\\lib\\site-packages (from spacy) (1.8.2)\n",
      "Requirement already satisfied: typer<0.5.0,>=0.3.0 in c:\\users\\vq5963\\anaconda3\\lib\\site-packages (from spacy) (0.4.1)\n",
      "Requirement already satisfied: langcodes<4.0.0,>=3.2.0 in c:\\users\\vq5963\\anaconda3\\lib\\site-packages (from spacy) (3.3.0)\n",
      "Requirement already satisfied: click<8.1.0 in c:\\users\\vq5963\\anaconda3\\lib\\site-packages (from spacy) (7.1.2)\n",
      "Requirement already satisfied: packaging>=20.0 in c:\\users\\vq5963\\anaconda3\\lib\\site-packages (from spacy) (20.4)\n",
      "Requirement already satisfied: cymem<2.1.0,>=2.0.2 in c:\\users\\vq5963\\anaconda3\\lib\\site-packages (from spacy) (2.0.6)\n",
      "Requirement already satisfied: smart-open<6.0.0,>=5.0.0 in c:\\users\\vq5963\\anaconda3\\lib\\site-packages (from pathy>=0.3.5->spacy) (5.2.1)\n",
      "Requirement already satisfied: MarkupSafe>=0.23 in c:\\users\\vq5963\\anaconda3\\lib\\site-packages (from jinja2->spacy) (1.1.1)\n",
      "Requirement already satisfied: urllib3!=1.25.0,!=1.25.1,<1.26,>=1.21.1 in c:\\users\\vq5963\\anaconda3\\lib\\site-packages (from requests<3.0.0,>=2.13.0->spacy) (1.25.11)\n",
      "Requirement already satisfied: chardet<4,>=3.0.2 in c:\\users\\vq5963\\anaconda3\\lib\\site-packages (from requests<3.0.0,>=2.13.0->spacy) (3.0.4)\n",
      "Requirement already satisfied: certifi>=2017.4.17 in c:\\users\\vq5963\\anaconda3\\lib\\site-packages (from requests<3.0.0,>=2.13.0->spacy) (2020.6.20)\n",
      "Requirement already satisfied: idna<3,>=2.5 in c:\\users\\vq5963\\anaconda3\\lib\\site-packages (from requests<3.0.0,>=2.13.0->spacy) (2.10)\n",
      "Requirement already satisfied: typing-extensions>=3.7.4.3 in c:\\users\\vq5963\\anaconda3\\lib\\site-packages (from pydantic!=1.8,!=1.8.1,<1.9.0,>=1.7.4->spacy) (3.7.4.3)\n",
      "Requirement already satisfied: pyparsing>=2.0.2 in c:\\users\\vq5963\\anaconda3\\lib\\site-packages (from packaging>=20.0->spacy) (2.4.7)\n",
      "Requirement already satisfied: six in c:\\users\\vq5963\\anaconda3\\lib\\site-packages (from packaging>=20.0->spacy) (1.15.0)\n",
      "Requirement already satisfied: fr-core-news-sm==3.2.0 from https://github.com/explosion/spacy-models/releases/download/fr_core_news_sm-3.2.0/fr_core_news_sm-3.2.0-py3-none-any.whl#egg=fr_core_news_sm==3.2.0 in c:\\users\\vq5963\\anaconda3\\lib\\site-packages (3.2.0)\n",
      "Requirement already satisfied: spacy<3.3.0,>=3.2.0 in c:\\users\\vq5963\\anaconda3\\lib\\site-packages (from fr-core-news-sm==3.2.0) (3.2.4)\n",
      "Requirement already satisfied: requests<3.0.0,>=2.13.0 in c:\\users\\vq5963\\anaconda3\\lib\\site-packages (from spacy<3.3.0,>=3.2.0->fr-core-news-sm==3.2.0) (2.24.0)\n",
      "Requirement already satisfied: jinja2 in c:\\users\\vq5963\\anaconda3\\lib\\site-packages (from spacy<3.3.0,>=3.2.0->fr-core-news-sm==3.2.0) (2.11.2)\n",
      "Requirement already satisfied: pydantic!=1.8,!=1.8.1,<1.9.0,>=1.7.4 in c:\\users\\vq5963\\anaconda3\\lib\\site-packages (from spacy<3.3.0,>=3.2.0->fr-core-news-sm==3.2.0) (1.8.2)\n",
      "Requirement already satisfied: cymem<2.1.0,>=2.0.2 in c:\\users\\vq5963\\anaconda3\\lib\\site-packages (from spacy<3.3.0,>=3.2.0->fr-core-news-sm==3.2.0) (2.0.6)\n",
      "Requirement already satisfied: langcodes<4.0.0,>=3.2.0 in c:\\users\\vq5963\\anaconda3\\lib\\site-packages (from spacy<3.3.0,>=3.2.0->fr-core-news-sm==3.2.0) (3.3.0)\n",
      "Requirement already satisfied: thinc<8.1.0,>=8.0.12 in c:\\users\\vq5963\\anaconda3\\lib\\site-packages (from spacy<3.3.0,>=3.2.0->fr-core-news-sm==3.2.0) (8.0.15)\n",
      "Requirement already satisfied: setuptools in c:\\users\\vq5963\\anaconda3\\lib\\site-packages (from spacy<3.3.0,>=3.2.0->fr-core-news-sm==3.2.0) (50.3.1.post20201107)\n",
      "Requirement already satisfied: typer<0.5.0,>=0.3.0 in c:\\users\\vq5963\\anaconda3\\lib\\site-packages (from spacy<3.3.0,>=3.2.0->fr-core-news-sm==3.2.0) (0.4.1)\n",
      "Requirement already satisfied: packaging>=20.0 in c:\\users\\vq5963\\anaconda3\\lib\\site-packages (from spacy<3.3.0,>=3.2.0->fr-core-news-sm==3.2.0) (20.4)\n",
      "Requirement already satisfied: tqdm<5.0.0,>=4.38.0 in c:\\users\\vq5963\\anaconda3\\lib\\site-packages (from spacy<3.3.0,>=3.2.0->fr-core-news-sm==3.2.0) (4.50.2)\n",
      "Requirement already satisfied: preshed<3.1.0,>=3.0.2 in c:\\users\\vq5963\\anaconda3\\lib\\site-packages (from spacy<3.3.0,>=3.2.0->fr-core-news-sm==3.2.0) (3.0.6)\n",
      "Requirement already satisfied: numpy>=1.15.0 in c:\\users\\vq5963\\anaconda3\\lib\\site-packages (from spacy<3.3.0,>=3.2.0->fr-core-news-sm==3.2.0) (1.19.2)\n",
      "Requirement already satisfied: blis<0.8.0,>=0.4.0 in c:\\users\\vq5963\\anaconda3\\lib\\site-packages (from spacy<3.3.0,>=3.2.0->fr-core-news-sm==3.2.0) (0.7.7)\n",
      "Requirement already satisfied: catalogue<2.1.0,>=2.0.6 in c:\\users\\vq5963\\anaconda3\\lib\\site-packages (from spacy<3.3.0,>=3.2.0->fr-core-news-sm==3.2.0) (2.0.7)\n",
      "Requirement already satisfied: spacy-loggers<2.0.0,>=1.0.0 in c:\\users\\vq5963\\anaconda3\\lib\\site-packages (from spacy<3.3.0,>=3.2.0->fr-core-news-sm==3.2.0) (1.0.2)\n",
      "Requirement already satisfied: spacy-legacy<3.1.0,>=3.0.8 in c:\\users\\vq5963\\anaconda3\\lib\\site-packages (from spacy<3.3.0,>=3.2.0->fr-core-news-sm==3.2.0) (3.0.9)\n",
      "Requirement already satisfied: wasabi<1.1.0,>=0.8.1 in c:\\users\\vq5963\\anaconda3\\lib\\site-packages (from spacy<3.3.0,>=3.2.0->fr-core-news-sm==3.2.0) (0.9.1)\n",
      "Requirement already satisfied: srsly<3.0.0,>=2.4.1 in c:\\users\\vq5963\\anaconda3\\lib\\site-packages (from spacy<3.3.0,>=3.2.0->fr-core-news-sm==3.2.0) (2.4.3)\n",
      "Requirement already satisfied: pathy>=0.3.5 in c:\\users\\vq5963\\anaconda3\\lib\\site-packages (from spacy<3.3.0,>=3.2.0->fr-core-news-sm==3.2.0) (0.6.1)\n",
      "Requirement already satisfied: click<8.1.0 in c:\\users\\vq5963\\anaconda3\\lib\\site-packages (from spacy<3.3.0,>=3.2.0->fr-core-news-sm==3.2.0) (7.1.2)\n",
      "Requirement already satisfied: murmurhash<1.1.0,>=0.28.0 in c:\\users\\vq5963\\anaconda3\\lib\\site-packages (from spacy<3.3.0,>=3.2.0->fr-core-news-sm==3.2.0) (1.0.6)\n",
      "Requirement already satisfied: idna<3,>=2.5 in c:\\users\\vq5963\\anaconda3\\lib\\site-packages (from requests<3.0.0,>=2.13.0->spacy<3.3.0,>=3.2.0->fr-core-news-sm==3.2.0) (2.10)\n",
      "Requirement already satisfied: chardet<4,>=3.0.2 in c:\\users\\vq5963\\anaconda3\\lib\\site-packages (from requests<3.0.0,>=2.13.0->spacy<3.3.0,>=3.2.0->fr-core-news-sm==3.2.0) (3.0.4)\n",
      "Requirement already satisfied: urllib3!=1.25.0,!=1.25.1,<1.26,>=1.21.1 in c:\\users\\vq5963\\anaconda3\\lib\\site-packages (from requests<3.0.0,>=2.13.0->spacy<3.3.0,>=3.2.0->fr-core-news-sm==3.2.0) (1.25.11)\n",
      "Requirement already satisfied: certifi>=2017.4.17 in c:\\users\\vq5963\\anaconda3\\lib\\site-packages (from requests<3.0.0,>=2.13.0->spacy<3.3.0,>=3.2.0->fr-core-news-sm==3.2.0) (2020.6.20)\n",
      "Requirement already satisfied: MarkupSafe>=0.23 in c:\\users\\vq5963\\anaconda3\\lib\\site-packages (from jinja2->spacy<3.3.0,>=3.2.0->fr-core-news-sm==3.2.0) (1.1.1)\n",
      "Requirement already satisfied: typing-extensions>=3.7.4.3 in c:\\users\\vq5963\\anaconda3\\lib\\site-packages (from pydantic!=1.8,!=1.8.1,<1.9.0,>=1.7.4->spacy<3.3.0,>=3.2.0->fr-core-news-sm==3.2.0) (3.7.4.3)\n",
      "Requirement already satisfied: six in c:\\users\\vq5963\\anaconda3\\lib\\site-packages (from packaging>=20.0->spacy<3.3.0,>=3.2.0->fr-core-news-sm==3.2.0) (1.15.0)\n",
      "Requirement already satisfied: pyparsing>=2.0.2 in c:\\users\\vq5963\\anaconda3\\lib\\site-packages (from packaging>=20.0->spacy<3.3.0,>=3.2.0->fr-core-news-sm==3.2.0) (2.4.7)\n",
      "Requirement already satisfied: smart-open<6.0.0,>=5.0.0 in c:\\users\\vq5963\\anaconda3\\lib\\site-packages (from pathy>=0.3.5->spacy<3.3.0,>=3.2.0->fr-core-news-sm==3.2.0) (5.2.1)\n",
      "[+] Download and installation successful\n",
      "You can now load the package via spacy.load('fr_core_news_sm')\n"
     ]
    }
   ],
   "source": [
    "!pip install spacy\n",
    "!python -m spacy download fr_core_news_sm"
   ]
  },
  {
   "cell_type": "code",
   "execution_count": 40,
   "metadata": {},
   "outputs": [
    {
     "name": "stdout",
     "output_type": "stream",
     "text": [
      "Noun phrases: ['Réglage barre palpeuse.', 'Interphone carte et commande ouverture forcée.', 'Essai']\n",
      "Verbs: ['forcer']\n",
      "Réglage NOUN ROOT\n",
      "barre ADJ amod\n",
      "palpeuse ADJ amod\n",
      ". PUNCT punct\n",
      "Interphone NOUN ROOT\n",
      "carte NOUN nmod\n",
      "et CCONJ cc\n",
      "commande PROPN conj\n",
      "ouverture NOUN nmod\n",
      "forcée VERB acl\n",
      ". PUNCT punct\n",
      "Essai NOUN nsubj\n",
      "ok CCONJ ROOT\n"
     ]
    }
   ],
   "source": [
    "import spacy\n",
    "\n",
    "# Load English tokenizer, tagger, parser and NER\n",
    "nlp = spacy.load(\"fr_core_news_sm\")\n",
    "\n",
    "# Process whole documents\n",
    "text = (\"Réglage barre palpeuse. Interphone carte et commande ouverture forcée. Essai ok\")\n",
    "doc = nlp(text)\n",
    "\n",
    "# Analyze syntax\n",
    "print(\"Noun phrases:\", [chunk.text for chunk in doc.noun_chunks])\n",
    "print(\"Verbs:\", [token.lemma_ for token in doc if token.pos_ == \"VERB\"])\n",
    "\n",
    "# Find named entities, phrases and concepts\n",
    "for entity in doc:\n",
    "    print(entity.text, entity.pos_, entity.dep_)"
   ]
  },
  {
   "cell_type": "markdown",
   "metadata": {},
   "source": [
    "### Avec Spark (Idée abandonnée)"
   ]
  },
  {
   "cell_type": "code",
   "execution_count": null,
   "metadata": {},
   "outputs": [],
   "source": [
    "#!bash wget http://setup.johnsnowlabs.com/colab.sh -O - | bash"
   ]
  },
  {
   "cell_type": "code",
   "execution_count": null,
   "metadata": {},
   "outputs": [],
   "source": [
    "pip install pyspark"
   ]
  },
  {
   "cell_type": "code",
   "execution_count": null,
   "metadata": {},
   "outputs": [],
   "source": [
    "pip install sparknlp"
   ]
  },
  {
   "cell_type": "code",
   "execution_count": null,
   "metadata": {},
   "outputs": [],
   "source": [
    "import json\n",
    "\n",
    "import pyspark\n",
    "from pyspark.ml import Pipeline \n",
    "from pyspark.sql import SparkSession\n",
    "import pyspark.sql.functions as F\n",
    "from sparknlp.annotator import *\n",
    "from sparknlp.base import *\n",
    "\n",
    "import sparknlp\n",
    "from sparknlp.pretrained import PretrainedPipeline"
   ]
  },
  {
   "cell_type": "code",
   "execution_count": null,
   "metadata": {},
   "outputs": [],
   "source": [
    "spark = sparknlp.start()"
   ]
  },
  {
   "cell_type": "code",
   "execution_count": null,
   "metadata": {
    "scrolled": true
   },
   "outputs": [],
   "source": [
    "sparknlp.version()\n",
    "spark.version"
   ]
  },
  {
   "cell_type": "code",
   "execution_count": null,
   "metadata": {},
   "outputs": [],
   "source": [
    "model_name ='classified_fake_report'"
   ]
  },
  {
   "cell_type": "code",
   "execution_count": null,
   "metadata": {},
   "outputs": [],
   "source": [
    "columns = ['REPORT','WORK_DES']\n",
    "new_df_text_list = new_df2.loc[:,columns]"
   ]
  },
  {
   "cell_type": "code",
   "execution_count": null,
   "metadata": {},
   "outputs": [],
   "source": [
    "np.array(new_df_text_list)"
   ]
  },
  {
   "cell_type": "code",
   "execution_count": null,
   "metadata": {},
   "outputs": [],
   "source": [
    "#NPL Pipline\n",
    "documentAssembler = DocumentAssembler()\\\n",
    ".setInputCol(\"text\")\n",
    "\n",
    "\n",
    "\n",
    "documentAssembler.setOutputCol(\"document\")\n",
    "\n",
    "try:\n",
    "    use = UniversalSentenceEncoder.pretrained(lang=\"fr\")\\\n",
    "    .setInputCols([\"document\"])\\\n",
    "    .setOutputCol(\"sentence_embeddings\")\n",
    "except:\n",
    "    pass\n",
    "\n",
    "document_classifier = ClassifierDLModel.pretrained(model_name)\\\n",
    "    .setInputCols(['document', 'sentence_embeddings']).setOutputCol(\"class\")\n",
    "\n",
    "nlpPipline = Pipline(stage=[\n",
    "    documentAssembler,\n",
    "    use,\n",
    "    document_classifier\n",
    "])"
   ]
  },
  {
   "cell_type": "code",
   "execution_count": null,
   "metadata": {},
   "outputs": [],
   "source": []
  }
 ],
 "metadata": {
  "kernelspec": {
   "display_name": "Python 3",
   "language": "python",
   "name": "python3"
  },
  "language_info": {
   "codemirror_mode": {
    "name": "ipython",
    "version": 3
   },
   "file_extension": ".py",
   "mimetype": "text/x-python",
   "name": "python",
   "nbconvert_exporter": "python",
   "pygments_lexer": "ipython3",
   "version": "3.8.5"
  }
 },
 "nbformat": 4,
 "nbformat_minor": 4
}
